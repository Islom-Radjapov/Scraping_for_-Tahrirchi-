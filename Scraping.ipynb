{
 "cells": [
  {
   "cell_type": "code",
   "execution_count": 218,
   "metadata": {
    "collapsed": true
   },
   "outputs": [],
   "source": [
    "import requests\n",
    "from bs4 import BeautifulSoup\n",
    "import pandas as pd\n",
    "import numpy as np\n",
    "from datetime import datetime"
   ]
  },
  {
   "cell_type": "code",
   "execution_count": 152,
   "outputs": [],
   "source": [
    "def request(url):\n",
    "    page = requests.get(url)\n",
    "    return BeautifulSoup(page.text, 'html.parser')"
   ],
   "metadata": {
    "collapsed": false
   }
  },
  {
   "cell_type": "code",
   "execution_count": 221,
   "outputs": [],
   "source": [
    "kun_uz = 'https://kun.uz/uz'\n",
    "# find url news\n",
    "page = requests.get(kun_uz)\n",
    "soup = BeautifulSoup(page.text, 'html.parser')\n",
    "urls = soup.find_all('div', class_='mb-25')"
   ],
   "metadata": {
    "collapsed": false
   }
  },
  {
   "cell_type": "code",
   "execution_count": 224,
   "outputs": [
    {
     "data": {
      "text/plain": "<a class=\"news-lenta\" href=\"/uz/news/2022/12/02/favoritlar-uyga-qaytdi-qatarda-dramalar-kuni\">\n<div class=\"news-meta\"><span>16:24</span></div>\n<span class=\"news-lenta__title\"> Favoritlar uyga qaytdi. Qatarda dramalar kuni</span>\n</a>"
     },
     "execution_count": 224,
     "metadata": {},
     "output_type": "execute_result"
    }
   ],
   "source": [
    "urls[0].find_all('a')[0]"
   ],
   "metadata": {
    "collapsed": false
   }
  },
  {
   "cell_type": "code",
   "execution_count": 147,
   "outputs": [],
   "source": [
    "ulrs_list = []\n",
    "title_list = []\n",
    "for x in urls[0].find_all('a'):\n",
    "    ulrs_list.append(f\"https://kun.uz{x.get('href')}\")\n",
    "    title_list.append(x.find('span', class_='news-lenta__title').get_text())"
   ],
   "metadata": {
    "collapsed": false
   }
  },
  {
   "cell_type": "code",
   "execution_count": 154,
   "outputs": [],
   "source": [
    "ur1 = 'https://kun.uz/uz/news/2022/12/02/ozbekiston-nomoddiy-madaniy-merosining-yana-ikki-elementi-yunesko-royxatiga-kiritildi'\n",
    "soup = request(url=ur1)"
   ],
   "metadata": {
    "collapsed": false
   }
  },
  {
   "cell_type": "code",
   "execution_count": 157,
   "outputs": [
    {
     "data": {
      "text/plain": "'O‘zbekiston nomoddiy madaniy merosining yana ikki elementi YuNeSKO ro‘yxatiga kiritildi '"
     },
     "execution_count": 157,
     "metadata": {},
     "output_type": "execute_result"
    }
   ],
   "source": [
    "title = soup.find('div', class_='single-header__title').get_text()"
   ],
   "metadata": {
    "collapsed": false
   }
  },
  {
   "cell_type": "code",
   "execution_count": 211,
   "outputs": [],
   "source": [
    "contents = soup.find('div', class_='single-content')"
   ],
   "metadata": {
    "collapsed": false
   }
  },
  {
   "cell_type": "code",
   "execution_count": 212,
   "outputs": [],
   "source": [
    "content = contents.find('h4').get_text()"
   ],
   "metadata": {
    "collapsed": false
   }
  },
  {
   "cell_type": "code",
   "execution_count": 213,
   "outputs": [],
   "source": [
    "contents_p = contents.find_all('p')"
   ],
   "metadata": {
    "collapsed": false
   }
  },
  {
   "cell_type": "code",
   "execution_count": 215,
   "outputs": [],
   "source": [
    "for x in contents_p:\n",
    "    content += \" \" + x.get_text()"
   ],
   "metadata": {
    "collapsed": false
   }
  },
  {
   "cell_type": "code",
   "execution_count": 216,
   "outputs": [
    {
     "data": {
      "text/plain": "'Reprezentativ ro‘yxatga kiritilgan O‘zbekiston elementlarining umumiy soni 11 taga yetdi. Ilgari bu ro‘yxatga «Baxshi», «Lazgi», «Palov», «Askiya», «Miniatyura», «Navro‘z», «Shoshmaqom» va boshqalar kiritilgan edi. Marokash poytaxti Rabot shahrida bo‘lib o‘tayotgan Nomoddiy madaniy merosni muhofaza qilish bo‘yicha Hukumatlararo qo‘mitaning 17-sessiyasi O‘zbekiston uchun muhim madaniy voqea bo‘ldi. O‘zbekiston tomoni ishtirokida ikkita ko‘pmillatli element Insoniyatning nomoddiy madaniy merosi Reprezentativ ro‘yxatiga kiritildi. O‘zbekiston tomonidan Ozarboyjon, Afg‘oniston, Eron, Tojikiston, Turkmaniston va Turkiya bilan birgalikda «Ipakchilik va to‘quv uchun an’anaviy ipak ishlab chiqarish» nomli birinchi fayl taqdim etildi. Ikkinchi nominatsiya «Xo‘ja Nasriddin haqidagi latifalarni takrorlash an’analari» deb nomlangan bo‘lib, O‘zbekiston tomoni Ozarboyjon, Qozog‘iston, Qirg‘iziston, Tojikiston, Turkmaniston va Turkiya bilan hamkorlikda tayyorlagan.  Qo‘mitaning baholash komissiyasi nomzodlik hujjatlarini tayyorlashda ishtirok etayotgan davlatlarning birgalikdagi faoliyatini yuqori baholadi va ularning Vakillik ro‘yxatiga kiritish uchun barcha mezonlarga muvofiqligini qayd etdi. «Davlatimiz rahbari boshchiligida mamlakatimizning boy nomoddiy madaniy merosini muhofaza qilish va uni ko‘paytirish yo‘lida tizimli ishlar olib borilmoqda. Yana ikki an’anamizning YuNeSKO ro‘yxatidan joy olishi buning yaqqol dalilidir. Bu yo‘nalishda O‘zbekistonning YuNeSKOdagi doimiy vakili Umid Shodiyevning sa’y-harakatlari alohida tahsinga sazovordir», – deydi bosh vazir o‘rinbosari – O‘zbekistonning YuNeSKO ishlari bo‘yicha Milliy komissiyasi raisi Aziz Abduhakimov. Tadbir davomida nominatsiyalar taqdimotida madaniyatlarni boyitish, mahalliy iqtisodiyotni qo‘llab-quvvatlash, o‘zaro hurmat va madaniyatlararo muloqotni mustahkamlashdagi unsurlarning tarixiy o‘rni va ahamiyatini atroflicha ochib beruvchi videofilmlar namoyish etildi. Tadbir ishtirokchilari ipak yetishtirishning an’anaviy texnologiyalari, keyingi yillarda O‘zbekistonda ipakchilikni rivojlantirish borasida amalga oshirilayotgan salmoqli ishlarga alohida e’tibor qaratishdi. Aholi orasida mashhur va sevimli folklor qahramoni sanalgan Xo‘ja Nasriddinning Buxoro shahrida qad rostlagan noyob haykali katta qiziqish uyg‘otdi.  «Ta’kidlash kerakki, Reprezentativ ro‘yxatga kiritilgan O‘zbekiston elementlarining umumiy soni 11 taga yetdi. Ilgari bu ro‘yxatga «Baxshi», «Lazgi», «Palov», «Askiya», «Miniatyura», «Navro‘z», «Shoshmaqom» va boshqalar kiritilgan edi. Atlas va adras tayyorlashning an’anaviy texnologiyalarini saqlash bo‘yicha Marg‘ilon hunarmandchilikni rivojlantirish markazi Nomoddiy madaniy meros obektlarini asrab-avaylash bo‘yicha yetakchilar reyestridan joy olgan», deyiladi\\xa0Turizm va madaniy meros vazirligi matbuot xizmati xabarida. Ma’lumot uchun, endi yangi elementlar xalqaro miqyosda butun insoniyat merosining ajralmas qismi sifatida tavsiflanadi va bu nomoddiy madaniy merosning ushbu turlarini e’tirof etish va keng targ‘ib qilishni sezilarli darajada oshirishga xizmat qiladi. O‘z navbatida, YuNeSKO ushbu elementlarni turli loyihalarni amalga oshirish orqali targ‘ib qiladi. Sessiya 3 dekabrgacha davom etadi.'"
     },
     "execution_count": 216,
     "metadata": {},
     "output_type": "execute_result"
    }
   ],
   "source": [
    "content"
   ],
   "metadata": {
    "collapsed": false
   }
  },
  {
   "cell_type": "code",
   "execution_count": 229,
   "outputs": [],
   "source": [
    "new_date = datetime.now().strftime(\"%Y-%m-%d %H:%M:%S\")"
   ],
   "metadata": {
    "collapsed": false
   }
  },
  {
   "cell_type": "code",
   "execution_count": 230,
   "outputs": [
    {
     "data": {
      "text/plain": "'2022-12-02 17:33:37'"
     },
     "execution_count": 230,
     "metadata": {},
     "output_type": "execute_result"
    }
   ],
   "source": [
    "new_date"
   ],
   "metadata": {
    "collapsed": false
   }
  },
  {
   "cell_type": "code",
   "execution_count": 237,
   "outputs": [
    {
     "data": {
      "text/plain": "   Unnamed: 0                                                url  \\\n0           0  https://kun.uz/uz/news/2022/12/02/mahallabay-i...   \n\n                  date                                              title  \\\n0  2022-12-02 18:50:43  Mahallabay ishlash agentligi shubhali tenderla...   \n\n                                             content  \n0  Subsidiya hisobidan bo‘layotgan davlat xaridla...  ",
      "text/html": "<div>\n<style scoped>\n    .dataframe tbody tr th:only-of-type {\n        vertical-align: middle;\n    }\n\n    .dataframe tbody tr th {\n        vertical-align: top;\n    }\n\n    .dataframe thead th {\n        text-align: right;\n    }\n</style>\n<table border=\"1\" class=\"dataframe\">\n  <thead>\n    <tr style=\"text-align: right;\">\n      <th></th>\n      <th>Unnamed: 0</th>\n      <th>url</th>\n      <th>date</th>\n      <th>title</th>\n      <th>content</th>\n    </tr>\n  </thead>\n  <tbody>\n    <tr>\n      <th>0</th>\n      <td>0</td>\n      <td>https://kun.uz/uz/news/2022/12/02/mahallabay-i...</td>\n      <td>2022-12-02 18:50:43</td>\n      <td>Mahallabay ishlash agentligi shubhali tenderla...</td>\n      <td>Subsidiya hisobidan bo‘layotgan davlat xaridla...</td>\n    </tr>\n  </tbody>\n</table>\n</div>"
     },
     "execution_count": 237,
     "metadata": {},
     "output_type": "execute_result"
    }
   ],
   "source": [
    "df = pd.read_csv('Data.csv')\n",
    "df"
   ],
   "metadata": {
    "collapsed": false
   }
  },
  {
   "cell_type": "code",
   "execution_count": 239,
   "outputs": [
    {
     "data": {
      "text/plain": "array(['Mahallabay ishlash agentligi shubhali tenderlar bo‘yicha tekshiruv boshladi '],\n      dtype=object)"
     },
     "execution_count": 239,
     "metadata": {},
     "output_type": "execute_result"
    }
   ],
   "source": [
    "df.title.values"
   ],
   "metadata": {
    "collapsed": false
   }
  },
  {
   "cell_type": "code",
   "execution_count": 240,
   "outputs": [
    {
     "data": {
      "text/plain": "array([\"Subsidiya hisobidan bo‘layotgan davlat xaridlarining to‘g‘ri o‘tkazilishi yuzasidan nazorat tadbirlari boshlanishi mumkin. Mahallabay ishlash va tadbirkorlik rivojlantirish agentligining Toshkent shahar boshqarmasi o‘tkazgan umumiy 3,4 mlrd so‘mlik 4 ta tenderda ochilganiga 1 kundan 4 kungacha bo‘lgan firmalar g‘olib deb topilgan edi. Agentlik bu shubhali xaridlar bo‘yicha Kun.uz'dagi maqolaga munosabat bildirib, o‘rganish ishlari boshlanganini ma’lum qildi. Tekshiruvga Monopoliyaga qarshi kurashish qo‘mitasi xodimlari ham jalb etilgan. Qo‘shimcha qilinishicha, agentlikning hududiy boshqarmalarida subsidiya hisobidan bo‘layotgan davlat xaridlarining to‘g‘ri o‘tkazilishi yuzasidan nazorat tadbirlarini o‘tkazish rejalashtirilmoqda. Ma’lumot uchun, Mahallabay ishlash agentligi shu yil boshidan respublikadagi barcha mahallalarda ish boshlagan hokim yordamchilari faoliyatini muvofiqlashtiradi. Hokim yordamchilarining tavsiyasiga asosan, tadbirkorlik va o‘zini o‘zi band qilish faoliyatini boshlamoqchi bo‘lgan ishsiz fuqarolar, shu jumladan, “Temir daftar”, “Ayollar daftari” va “Yoshlar daftari”ga kiritilgan fuqarolarga faoliyatini boshlash uchun subsidiya asosida kerakli asbob-uskuna, mehnat qurollari xarid qilinmoqda. Toshkentdagi holatda yuzlab tikuv mashinalari tender e’lon qilinganidan keyin ochilgan kompaniyalardan, 6 mln so‘mdan sotib olingan.\"],\n      dtype=object)"
     },
     "execution_count": 240,
     "metadata": {},
     "output_type": "execute_result"
    }
   ],
   "source": [
    "df.content.values"
   ],
   "metadata": {
    "collapsed": false
   }
  },
  {
   "cell_type": "code",
   "execution_count": null,
   "outputs": [],
   "source": [],
   "metadata": {
    "collapsed": false
   }
  }
 ],
 "metadata": {
  "kernelspec": {
   "display_name": "Python 3",
   "language": "python",
   "name": "python3"
  },
  "language_info": {
   "codemirror_mode": {
    "name": "ipython",
    "version": 2
   },
   "file_extension": ".py",
   "mimetype": "text/x-python",
   "name": "python",
   "nbconvert_exporter": "python",
   "pygments_lexer": "ipython2",
   "version": "2.7.6"
  }
 },
 "nbformat": 4,
 "nbformat_minor": 0
}
