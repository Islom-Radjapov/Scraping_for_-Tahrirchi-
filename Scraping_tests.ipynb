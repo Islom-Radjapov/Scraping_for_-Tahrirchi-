{
 "cells": [
  {
   "cell_type": "code",
   "execution_count": 2,
   "metadata": {
    "collapsed": true
   },
   "outputs": [],
   "source": [
    "import requests\n",
    "from bs4 import BeautifulSoup\n",
    "import pandas as pd\n",
    "import numpy as np\n",
    "from datetime import datetime"
   ]
  },
  {
   "cell_type": "code",
   "execution_count": 152,
   "outputs": [],
   "source": [
    "def request(url):\n",
    "    page = requests.get(url)\n",
    "    return BeautifulSoup(page.text, 'html.parser')"
   ],
   "metadata": {
    "collapsed": false
   }
  },
  {
   "cell_type": "code",
   "execution_count": 221,
   "outputs": [],
   "source": [
    "kun_uz = 'https://kun.uz/uz'\n",
    "# find url news\n",
    "page = requests.get(kun_uz)\n",
    "soup = BeautifulSoup(page.text, 'html.parser')\n",
    "urls = soup.find_all('div', class_='mb-25')"
   ],
   "metadata": {
    "collapsed": false
   }
  },
  {
   "cell_type": "code",
   "execution_count": 224,
   "outputs": [
    {
     "data": {
      "text/plain": "<a class=\"news-lenta\" href=\"/uz/news/2022/12/02/favoritlar-uyga-qaytdi-qatarda-dramalar-kuni\">\n<div class=\"news-meta\"><span>16:24</span></div>\n<span class=\"news-lenta__title\"> Favoritlar uyga qaytdi. Qatarda dramalar kuni</span>\n</a>"
     },
     "execution_count": 224,
     "metadata": {},
     "output_type": "execute_result"
    }
   ],
   "source": [
    "urls[0].find_all('a')[0]"
   ],
   "metadata": {
    "collapsed": false
   }
  },
  {
   "cell_type": "code",
   "execution_count": 147,
   "outputs": [],
   "source": [
    "ulrs_list = []\n",
    "title_list = []\n",
    "for x in urls[0].find_all('a'):\n",
    "    ulrs_list.append(f\"https://kun.uz{x.get('href')}\")\n",
    "    title_list.append(x.find('span', class_='news-lenta__title').get_text())"
   ],
   "metadata": {
    "collapsed": false
   }
  },
  {
   "cell_type": "code",
   "execution_count": 154,
   "outputs": [],
   "source": [
    "ur1 = 'https://kun.uz/uz/news/2022/12/02/ozbekiston-nomoddiy-madaniy-merosining-yana-ikki-elementi-yunesko-royxatiga-kiritildi'\n",
    "soup = request(url=ur1)"
   ],
   "metadata": {
    "collapsed": false
   }
  },
  {
   "cell_type": "code",
   "execution_count": 157,
   "outputs": [
    {
     "data": {
      "text/plain": "'O‘zbekiston nomoddiy madaniy merosining yana ikki elementi YuNeSKO ro‘yxatiga kiritildi '"
     },
     "execution_count": 157,
     "metadata": {},
     "output_type": "execute_result"
    }
   ],
   "source": [
    "title = soup.find('div', class_='single-header__title').get_text()"
   ],
   "metadata": {
    "collapsed": false
   }
  },
  {
   "cell_type": "code",
   "execution_count": 211,
   "outputs": [],
   "source": [
    "contents = soup.find('div', class_='single-content')"
   ],
   "metadata": {
    "collapsed": false
   }
  },
  {
   "cell_type": "code",
   "execution_count": 212,
   "outputs": [],
   "source": [
    "content = contents.find('h4').get_text()"
   ],
   "metadata": {
    "collapsed": false
   }
  },
  {
   "cell_type": "code",
   "execution_count": 213,
   "outputs": [],
   "source": [
    "contents_p = contents.find_all('p')"
   ],
   "metadata": {
    "collapsed": false
   }
  },
  {
   "cell_type": "code",
   "execution_count": 215,
   "outputs": [],
   "source": [
    "for x in contents_p:\n",
    "    content += \" \" + x.get_text()"
   ],
   "metadata": {
    "collapsed": false
   }
  },
  {
   "cell_type": "code",
   "execution_count": 216,
   "outputs": [
    {
     "data": {
      "text/plain": "'Reprezentativ ro‘yxatga kiritilgan O‘zbekiston elementlarining umumiy soni 11 taga yetdi. Ilgari bu ro‘yxatga «Baxshi», «Lazgi», «Palov», «Askiya», «Miniatyura», «Navro‘z», «Shoshmaqom» va boshqalar kiritilgan edi. Marokash poytaxti Rabot shahrida bo‘lib o‘tayotgan Nomoddiy madaniy merosni muhofaza qilish bo‘yicha Hukumatlararo qo‘mitaning 17-sessiyasi O‘zbekiston uchun muhim madaniy voqea bo‘ldi. O‘zbekiston tomoni ishtirokida ikkita ko‘pmillatli element Insoniyatning nomoddiy madaniy merosi Reprezentativ ro‘yxatiga kiritildi. O‘zbekiston tomonidan Ozarboyjon, Afg‘oniston, Eron, Tojikiston, Turkmaniston va Turkiya bilan birgalikda «Ipakchilik va to‘quv uchun an’anaviy ipak ishlab chiqarish» nomli birinchi fayl taqdim etildi. Ikkinchi nominatsiya «Xo‘ja Nasriddin haqidagi latifalarni takrorlash an’analari» deb nomlangan bo‘lib, O‘zbekiston tomoni Ozarboyjon, Qozog‘iston, Qirg‘iziston, Tojikiston, Turkmaniston va Turkiya bilan hamkorlikda tayyorlagan.  Qo‘mitaning baholash komissiyasi nomzodlik hujjatlarini tayyorlashda ishtirok etayotgan davlatlarning birgalikdagi faoliyatini yuqori baholadi va ularning Vakillik ro‘yxatiga kiritish uchun barcha mezonlarga muvofiqligini qayd etdi. «Davlatimiz rahbari boshchiligida mamlakatimizning boy nomoddiy madaniy merosini muhofaza qilish va uni ko‘paytirish yo‘lida tizimli ishlar olib borilmoqda. Yana ikki an’anamizning YuNeSKO ro‘yxatidan joy olishi buning yaqqol dalilidir. Bu yo‘nalishda O‘zbekistonning YuNeSKOdagi doimiy vakili Umid Shodiyevning sa’y-harakatlari alohida tahsinga sazovordir», – deydi bosh vazir o‘rinbosari – O‘zbekistonning YuNeSKO ishlari bo‘yicha Milliy komissiyasi raisi Aziz Abduhakimov. Tadbir davomida nominatsiyalar taqdimotida madaniyatlarni boyitish, mahalliy iqtisodiyotni qo‘llab-quvvatlash, o‘zaro hurmat va madaniyatlararo muloqotni mustahkamlashdagi unsurlarning tarixiy o‘rni va ahamiyatini atroflicha ochib beruvchi videofilmlar namoyish etildi. Tadbir ishtirokchilari ipak yetishtirishning an’anaviy texnologiyalari, keyingi yillarda O‘zbekistonda ipakchilikni rivojlantirish borasida amalga oshirilayotgan salmoqli ishlarga alohida e’tibor qaratishdi. Aholi orasida mashhur va sevimli folklor qahramoni sanalgan Xo‘ja Nasriddinning Buxoro shahrida qad rostlagan noyob haykali katta qiziqish uyg‘otdi.  «Ta’kidlash kerakki, Reprezentativ ro‘yxatga kiritilgan O‘zbekiston elementlarining umumiy soni 11 taga yetdi. Ilgari bu ro‘yxatga «Baxshi», «Lazgi», «Palov», «Askiya», «Miniatyura», «Navro‘z», «Shoshmaqom» va boshqalar kiritilgan edi. Atlas va adras tayyorlashning an’anaviy texnologiyalarini saqlash bo‘yicha Marg‘ilon hunarmandchilikni rivojlantirish markazi Nomoddiy madaniy meros obektlarini asrab-avaylash bo‘yicha yetakchilar reyestridan joy olgan», deyiladi\\xa0Turizm va madaniy meros vazirligi matbuot xizmati xabarida. Ma’lumot uchun, endi yangi elementlar xalqaro miqyosda butun insoniyat merosining ajralmas qismi sifatida tavsiflanadi va bu nomoddiy madaniy merosning ushbu turlarini e’tirof etish va keng targ‘ib qilishni sezilarli darajada oshirishga xizmat qiladi. O‘z navbatida, YuNeSKO ushbu elementlarni turli loyihalarni amalga oshirish orqali targ‘ib qiladi. Sessiya 3 dekabrgacha davom etadi.'"
     },
     "execution_count": 216,
     "metadata": {},
     "output_type": "execute_result"
    }
   ],
   "source": [
    "content"
   ],
   "metadata": {
    "collapsed": false
   }
  },
  {
   "cell_type": "code",
   "execution_count": 229,
   "outputs": [],
   "source": [
    "new_date = datetime.now().strftime(\"%Y-%m-%d %H:%M:%S\")"
   ],
   "metadata": {
    "collapsed": false
   }
  },
  {
   "cell_type": "code",
   "execution_count": 230,
   "outputs": [
    {
     "data": {
      "text/plain": "'2022-12-02 17:33:37'"
     },
     "execution_count": 230,
     "metadata": {},
     "output_type": "execute_result"
    }
   ],
   "source": [
    "new_date"
   ],
   "metadata": {
    "collapsed": false
   }
  },
  {
   "cell_type": "code",
   "execution_count": 4,
   "outputs": [
    {
     "data": {
      "text/plain": "   id                                                url                 date  \\\n0   1  https://kun.uz/uz/news/2022/12/02/iib-va-mahal...  2022-12-02 18:04:09   \n1   2  https://kun.uz/uz/news/2022/12/02/saakashvili-...  2022-12-02 19:02:27   \n2   3  https://kun.uz/uz/news/2022/12/02/samarqandda-...  2022-12-02 19:20:50   \n3   4  https://kun.uz/uz/news/2022/12/02/portugallar-...  2022-12-02 19:30:59   \n4   5  https://kun.uz/uz/news/2022/12/02/pentagon-yan...  2022-12-02 19:51:19   \n5   6  https://kun.uz/uz/news/2022/12/02/iiv-buxoroda...  2022-12-02 20:31:52   \n6   7  https://kun.uz/uz/news/2022/12/02/si-jinping-b...  2022-12-02 23:59:01   \n7  12  https://kun.uz/uz/news/2022/12/03/ilon-mask-te...  2022-12-03 00:37:52   \n8  13  https://kun.uz/uz/news/2022/12/03/turkiyalik-s...  2022-12-03 00:58:25   \n\n                                               title  \\\n0  IIB va mahalliy idoralar klasterlar xizmatida....   \n1               Saakashvili siyosatni tark etmoqchi    \n2  Samarqandda Rossiya-O‘zbekiston biznes-forumi ...   \n3  Portugallar Braziliyaga tushib qolishi mumkin....   \n4  Pentagon yangi B-21 Raider «ko‘rinmas» strateg...   \n5  IIV Buxoroda IIB binosida fuqaro vafot etganin...   \n6  Si Jinping birinchi marta Xitoydagi norozilikl...   \n7  Ilon Mask Tesla Semi yuk mashinasini taqdim et...   \n8  Turkiyalik sharhlovchi JCh-2022 o‘yini tanaffu...   \n\n                                             content  \\\n0  Xorazm viloyatining Xonqa tumanida “Xonqa Gold...   \n1  Gruziya sobiq prezidenti Mixail Saakashvili si...   \n2  Forum yakuniga ko‘ra, o‘zaro hamkorlikni rivoj...   \n3  Bugun mundialda nimalar hal bo‘ladi? 2 dekabr ...   \n4  Ushbu samolyot kelajakda AQSh yadroviy triadas...   \n5  Internetda tarqalgan xabarga ko‘ra, iqtisodiy ...   \n6  Xitoy rahbari noroziliklar ortida «alamzada ta...   \n7  U bir zaryadda 15 tonna yukni 800 kilometr mas...   \n8  Sharhlovchi muxolifatga aloqador bo‘lgan sobiq...   \n\n                                               words  \n0  {'shaxslarning', '6', 'qilishgan.', 'talablari...  \n1  {'jazosiga', '6', 'siyosatni', 'yomonlashmoqda...  \n2  {'tuzish', 'zanjirlarini', 'avtomobilsozlik,',...  \n3  {'1/8', 'aybdor.', '6', '1-o‘rinni', 'yetarli,...  \n4  {'ixtiyoriga', 'olib', 'strategik', 'vazirligi...  \n5  {'jarohat', 'fuqaroning', 'epilepsiyadan', 'ol...  \n6  {'rahbarining', 'Shuningdek,', 'rasmiylariga',...  \n7  {'Qayd', 'beriladi.', 'yilda', 'yetkazib', 'ko...  \n8  {'o‘yinning', 'yilgi', 'olib', 'bo‘lgan.', 'bu...  ",
      "text/html": "<div>\n<style scoped>\n    .dataframe tbody tr th:only-of-type {\n        vertical-align: middle;\n    }\n\n    .dataframe tbody tr th {\n        vertical-align: top;\n    }\n\n    .dataframe thead th {\n        text-align: right;\n    }\n</style>\n<table border=\"1\" class=\"dataframe\">\n  <thead>\n    <tr style=\"text-align: right;\">\n      <th></th>\n      <th>id</th>\n      <th>url</th>\n      <th>date</th>\n      <th>title</th>\n      <th>content</th>\n      <th>words</th>\n    </tr>\n  </thead>\n  <tbody>\n    <tr>\n      <th>0</th>\n      <td>1</td>\n      <td>https://kun.uz/uz/news/2022/12/02/iib-va-mahal...</td>\n      <td>2022-12-02 18:04:09</td>\n      <td>IIB va mahalliy idoralar klasterlar xizmatida....</td>\n      <td>Xorazm viloyatining Xonqa tumanida “Xonqa Gold...</td>\n      <td>{'shaxslarning', '6', 'qilishgan.', 'talablari...</td>\n    </tr>\n    <tr>\n      <th>1</th>\n      <td>2</td>\n      <td>https://kun.uz/uz/news/2022/12/02/saakashvili-...</td>\n      <td>2022-12-02 19:02:27</td>\n      <td>Saakashvili siyosatni tark etmoqchi</td>\n      <td>Gruziya sobiq prezidenti Mixail Saakashvili si...</td>\n      <td>{'jazosiga', '6', 'siyosatni', 'yomonlashmoqda...</td>\n    </tr>\n    <tr>\n      <th>2</th>\n      <td>3</td>\n      <td>https://kun.uz/uz/news/2022/12/02/samarqandda-...</td>\n      <td>2022-12-02 19:20:50</td>\n      <td>Samarqandda Rossiya-O‘zbekiston biznes-forumi ...</td>\n      <td>Forum yakuniga ko‘ra, o‘zaro hamkorlikni rivoj...</td>\n      <td>{'tuzish', 'zanjirlarini', 'avtomobilsozlik,',...</td>\n    </tr>\n    <tr>\n      <th>3</th>\n      <td>4</td>\n      <td>https://kun.uz/uz/news/2022/12/02/portugallar-...</td>\n      <td>2022-12-02 19:30:59</td>\n      <td>Portugallar Braziliyaga tushib qolishi mumkin....</td>\n      <td>Bugun mundialda nimalar hal bo‘ladi? 2 dekabr ...</td>\n      <td>{'1/8', 'aybdor.', '6', '1-o‘rinni', 'yetarli,...</td>\n    </tr>\n    <tr>\n      <th>4</th>\n      <td>5</td>\n      <td>https://kun.uz/uz/news/2022/12/02/pentagon-yan...</td>\n      <td>2022-12-02 19:51:19</td>\n      <td>Pentagon yangi B-21 Raider «ko‘rinmas» strateg...</td>\n      <td>Ushbu samolyot kelajakda AQSh yadroviy triadas...</td>\n      <td>{'ixtiyoriga', 'olib', 'strategik', 'vazirligi...</td>\n    </tr>\n    <tr>\n      <th>5</th>\n      <td>6</td>\n      <td>https://kun.uz/uz/news/2022/12/02/iiv-buxoroda...</td>\n      <td>2022-12-02 20:31:52</td>\n      <td>IIV Buxoroda IIB binosida fuqaro vafot etganin...</td>\n      <td>Internetda tarqalgan xabarga ko‘ra, iqtisodiy ...</td>\n      <td>{'jarohat', 'fuqaroning', 'epilepsiyadan', 'ol...</td>\n    </tr>\n    <tr>\n      <th>6</th>\n      <td>7</td>\n      <td>https://kun.uz/uz/news/2022/12/02/si-jinping-b...</td>\n      <td>2022-12-02 23:59:01</td>\n      <td>Si Jinping birinchi marta Xitoydagi norozilikl...</td>\n      <td>Xitoy rahbari noroziliklar ortida «alamzada ta...</td>\n      <td>{'rahbarining', 'Shuningdek,', 'rasmiylariga',...</td>\n    </tr>\n    <tr>\n      <th>7</th>\n      <td>12</td>\n      <td>https://kun.uz/uz/news/2022/12/03/ilon-mask-te...</td>\n      <td>2022-12-03 00:37:52</td>\n      <td>Ilon Mask Tesla Semi yuk mashinasini taqdim et...</td>\n      <td>U bir zaryadda 15 tonna yukni 800 kilometr mas...</td>\n      <td>{'Qayd', 'beriladi.', 'yilda', 'yetkazib', 'ko...</td>\n    </tr>\n    <tr>\n      <th>8</th>\n      <td>13</td>\n      <td>https://kun.uz/uz/news/2022/12/03/turkiyalik-s...</td>\n      <td>2022-12-03 00:58:25</td>\n      <td>Turkiyalik sharhlovchi JCh-2022 o‘yini tanaffu...</td>\n      <td>Sharhlovchi muxolifatga aloqador bo‘lgan sobiq...</td>\n      <td>{'o‘yinning', 'yilgi', 'olib', 'bo‘lgan.', 'bu...</td>\n    </tr>\n  </tbody>\n</table>\n</div>"
     },
     "execution_count": 4,
     "metadata": {},
     "output_type": "execute_result"
    }
   ],
   "source": [
    "df = pd.read_csv('Data.csv')\n",
    "df"
   ],
   "metadata": {
    "collapsed": false
   }
  },
  {
   "cell_type": "code",
   "execution_count": null,
   "outputs": [],
   "source": [
    "df.title.values"
   ],
   "metadata": {
    "collapsed": false
   }
  },
  {
   "cell_type": "code",
   "execution_count": 240,
   "outputs": [
    {
     "data": {
      "text/plain": "array([\"Subsidiya hisobidan bo‘layotgan davlat xaridlarining to‘g‘ri o‘tkazilishi yuzasidan nazorat tadbirlari boshlanishi mumkin. Mahallabay ishlash va tadbirkorlik rivojlantirish agentligining Toshkent shahar boshqarmasi o‘tkazgan umumiy 3,4 mlrd so‘mlik 4 ta tenderda ochilganiga 1 kundan 4 kungacha bo‘lgan firmalar g‘olib deb topilgan edi. Agentlik bu shubhali xaridlar bo‘yicha Kun.uz'dagi maqolaga munosabat bildirib, o‘rganish ishlari boshlanganini ma’lum qildi. Tekshiruvga Monopoliyaga qarshi kurashish qo‘mitasi xodimlari ham jalb etilgan. Qo‘shimcha qilinishicha, agentlikning hududiy boshqarmalarida subsidiya hisobidan bo‘layotgan davlat xaridlarining to‘g‘ri o‘tkazilishi yuzasidan nazorat tadbirlarini o‘tkazish rejalashtirilmoqda. Ma’lumot uchun, Mahallabay ishlash agentligi shu yil boshidan respublikadagi barcha mahallalarda ish boshlagan hokim yordamchilari faoliyatini muvofiqlashtiradi. Hokim yordamchilarining tavsiyasiga asosan, tadbirkorlik va o‘zini o‘zi band qilish faoliyatini boshlamoqchi bo‘lgan ishsiz fuqarolar, shu jumladan, “Temir daftar”, “Ayollar daftari” va “Yoshlar daftari”ga kiritilgan fuqarolarga faoliyatini boshlash uchun subsidiya asosida kerakli asbob-uskuna, mehnat qurollari xarid qilinmoqda. Toshkentdagi holatda yuzlab tikuv mashinalari tender e’lon qilinganidan keyin ochilgan kompaniyalardan, 6 mln so‘mdan sotib olingan.\"],\n      dtype=object)"
     },
     "execution_count": 240,
     "metadata": {},
     "output_type": "execute_result"
    }
   ],
   "source": [
    "df.content.values"
   ],
   "metadata": {
    "collapsed": false
   }
  },
  {
   "cell_type": "code",
   "execution_count": null,
   "outputs": [],
   "source": [],
   "metadata": {
    "collapsed": false
   }
  }
 ],
 "metadata": {
  "kernelspec": {
   "display_name": "Python 3",
   "language": "python",
   "name": "python3"
  },
  "language_info": {
   "codemirror_mode": {
    "name": "ipython",
    "version": 2
   },
   "file_extension": ".py",
   "mimetype": "text/x-python",
   "name": "python",
   "nbconvert_exporter": "python",
   "pygments_lexer": "ipython2",
   "version": "2.7.6"
  }
 },
 "nbformat": 4,
 "nbformat_minor": 0
}
