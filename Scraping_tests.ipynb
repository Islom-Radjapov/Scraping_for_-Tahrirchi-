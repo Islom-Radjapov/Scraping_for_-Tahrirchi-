{
 "cells": [
  {
   "cell_type": "code",
   "execution_count": 1,
   "metadata": {
    "collapsed": true
   },
   "outputs": [],
   "source": [
    "import requests\n",
    "from bs4 import BeautifulSoup\n",
    "import pandas as pd\n",
    "import numpy as np\n",
    "from datetime import datetime"
   ]
  },
  {
   "cell_type": "code",
   "execution_count": 2,
   "outputs": [],
   "source": [
    "def request(url):\n",
    "    page = requests.get(url)\n",
    "    return BeautifulSoup(page.text, 'html.parser')"
   ],
   "metadata": {
    "collapsed": false
   }
  },
  {
   "cell_type": "code",
   "execution_count": 3,
   "outputs": [],
   "source": [
    "kun_uz = 'https://kun.uz/uz'\n",
    "page = requests.get(kun_uz)\n",
    "soup = BeautifulSoup(page.text, 'html.parser')\n",
    "urls = soup.find_all('div', class_='mb-25')"
   ],
   "metadata": {
    "collapsed": false
   }
  },
  {
   "cell_type": "code",
   "execution_count": 4,
   "outputs": [
    {
     "data": {
      "text/plain": "<a class=\"news-lenta\" href=\"/uz/news/2022/12/03/2023-yilda-sayohat-uchun-eng-xavfli-mamlakatlar-nomi-elon-qilindi\">\n<div class=\"news-meta\"><span>02:17</span></div>\n<span class=\"news-lenta__title\"> 2023 yilda sayohat uchun eng xavfli mamlakatlar nomi e’lon qilindi</span>\n</a>"
     },
     "execution_count": 4,
     "metadata": {},
     "output_type": "execute_result"
    }
   ],
   "source": [
    "urls[0].find_all('a')[0]"
   ],
   "metadata": {
    "collapsed": false
   }
  },
  {
   "cell_type": "code",
   "execution_count": 5,
   "outputs": [],
   "source": [
    "ulrs_list = []\n",
    "title_list = []\n",
    "for x in urls[0].find_all('a'):\n",
    "    ulrs_list.append(f\"https://kun.uz{x.get('href')}\")\n",
    "    title_list.append(x.find('span', class_='news-lenta__title').get_text())"
   ],
   "metadata": {
    "collapsed": false
   }
  },
  {
   "cell_type": "code",
   "execution_count": 6,
   "outputs": [],
   "source": [
    "ur1 = 'https://kun.uz/uz/news/2022/12/02/ozbekiston-nomoddiy-madaniy-merosining-yana-ikki-elementi-yunesko-royxatiga-kiritildi'\n",
    "soup = request(url=ur1)"
   ],
   "metadata": {
    "collapsed": false
   }
  },
  {
   "cell_type": "code",
   "execution_count": 7,
   "outputs": [],
   "source": [
    "title = soup.find('div', class_='single-header__title').get_text()"
   ],
   "metadata": {
    "collapsed": false
   }
  },
  {
   "cell_type": "code",
   "execution_count": 8,
   "outputs": [],
   "source": [
    "contents = soup.find('div', class_='single-content')"
   ],
   "metadata": {
    "collapsed": false
   }
  },
  {
   "cell_type": "code",
   "execution_count": 9,
   "outputs": [],
   "source": [
    "content = contents.find('h4').get_text()"
   ],
   "metadata": {
    "collapsed": false
   }
  },
  {
   "cell_type": "code",
   "execution_count": 10,
   "outputs": [],
   "source": [
    "contents_p = contents.find_all('p')"
   ],
   "metadata": {
    "collapsed": false
   }
  },
  {
   "cell_type": "code",
   "execution_count": 11,
   "outputs": [],
   "source": [
    "for x in contents_p:\n",
    "    content += \" \" + x.get_text()"
   ],
   "metadata": {
    "collapsed": false
   }
  },
  {
   "cell_type": "code",
   "execution_count": 12,
   "outputs": [
    {
     "data": {
      "text/plain": "'Reprezentativ ro‘yxatga kiritilgan O‘zbekiston elementlarining umumiy soni 11 taga yetdi. Ilgari bu ro‘yxatga «Baxshi», «Lazgi», «Palov», «Askiya», «Miniatyura», «Navro‘z», «Shoshmaqom» va boshqalar kiritilgan edi. Marokash poytaxti Rabot shahrida bo‘lib o‘tayotgan Nomoddiy madaniy merosni muhofaza qilish bo‘yicha Hukumatlararo qo‘mitaning 17-sessiyasi O‘zbekiston uchun muhim madaniy voqea bo‘ldi. O‘zbekiston tomoni ishtirokida ikkita ko‘pmillatli element Insoniyatning nomoddiy madaniy merosi Reprezentativ ro‘yxatiga kiritildi. O‘zbekiston tomonidan Ozarboyjon, Afg‘oniston, Eron, Tojikiston, Turkmaniston va Turkiya bilan birgalikda «Ipakchilik va to‘quv uchun an’anaviy ipak ishlab chiqarish» nomli birinchi fayl taqdim etildi. Ikkinchi nominatsiya «Xo‘ja Nasriddin haqidagi latifalarni takrorlash an’analari» deb nomlangan bo‘lib, O‘zbekiston tomoni Ozarboyjon, Qozog‘iston, Qirg‘iziston, Tojikiston, Turkmaniston va Turkiya bilan hamkorlikda tayyorlagan.  Qo‘mitaning baholash komissiyasi nomzodlik hujjatlarini tayyorlashda ishtirok etayotgan davlatlarning birgalikdagi faoliyatini yuqori baholadi va ularning Vakillik ro‘yxatiga kiritish uchun barcha mezonlarga muvofiqligini qayd etdi. «Davlatimiz rahbari boshchiligida mamlakatimizning boy nomoddiy madaniy merosini muhofaza qilish va uni ko‘paytirish yo‘lida tizimli ishlar olib borilmoqda. Yana ikki an’anamizning YuNeSKO ro‘yxatidan joy olishi buning yaqqol dalilidir. Bu yo‘nalishda O‘zbekistonning YuNeSKOdagi doimiy vakili Umid Shodiyevning sa’y-harakatlari alohida tahsinga sazovordir», – deydi bosh vazir o‘rinbosari – O‘zbekistonning YuNeSKO ishlari bo‘yicha Milliy komissiyasi raisi Aziz Abduhakimov. Tadbir davomida nominatsiyalar taqdimotida madaniyatlarni boyitish, mahalliy iqtisodiyotni qo‘llab-quvvatlash, o‘zaro hurmat va madaniyatlararo muloqotni mustahkamlashdagi unsurlarning tarixiy o‘rni va ahamiyatini atroflicha ochib beruvchi videofilmlar namoyish etildi. Tadbir ishtirokchilari ipak yetishtirishning an’anaviy texnologiyalari, keyingi yillarda O‘zbekistonda ipakchilikni rivojlantirish borasida amalga oshirilayotgan salmoqli ishlarga alohida e’tibor qaratishdi. Aholi orasida mashhur va sevimli folklor qahramoni sanalgan Xo‘ja Nasriddinning Buxoro shahrida qad rostlagan noyob haykali katta qiziqish uyg‘otdi.  «Ta’kidlash kerakki, Reprezentativ ro‘yxatga kiritilgan O‘zbekiston elementlarining umumiy soni 11 taga yetdi. Ilgari bu ro‘yxatga «Baxshi», «Lazgi», «Palov», «Askiya», «Miniatyura», «Navro‘z», «Shoshmaqom» va boshqalar kiritilgan edi. Atlas va adras tayyorlashning an’anaviy texnologiyalarini saqlash bo‘yicha Marg‘ilon hunarmandchilikni rivojlantirish markazi Nomoddiy madaniy meros obektlarini asrab-avaylash bo‘yicha yetakchilar reyestridan joy olgan», deyiladi\\xa0Turizm va madaniy meros vazirligi matbuot xizmati xabarida. Ma’lumot uchun, endi yangi elementlar xalqaro miqyosda butun insoniyat merosining ajralmas qismi sifatida tavsiflanadi va bu nomoddiy madaniy merosning ushbu turlarini e’tirof etish va keng targ‘ib qilishni sezilarli darajada oshirishga xizmat qiladi. O‘z navbatida, YuNeSKO ushbu elementlarni turli loyihalarni amalga oshirish orqali targ‘ib qiladi. Sessiya 3 dekabrgacha davom etadi.'"
     },
     "execution_count": 12,
     "metadata": {},
     "output_type": "execute_result"
    }
   ],
   "source": [
    "content"
   ],
   "metadata": {
    "collapsed": false
   }
  },
  {
   "cell_type": "code",
   "execution_count": 13,
   "outputs": [],
   "source": [
    "new_date = datetime.now().strftime(\"%Y-%m-%d %H:%M:%S\")"
   ],
   "metadata": {
    "collapsed": false
   }
  },
  {
   "cell_type": "code",
   "execution_count": 14,
   "outputs": [
    {
     "data": {
      "text/plain": "'2022-12-03 03:08:29'"
     },
     "execution_count": 14,
     "metadata": {},
     "output_type": "execute_result"
    }
   ],
   "source": [
    "new_date"
   ],
   "metadata": {
    "collapsed": false
   }
  },
  {
   "cell_type": "markdown",
   "source": [
    "WE WILL DETERMINE THE QUALITY OF THE FOUND WORDS"
   ],
   "metadata": {
    "collapsed": false
   }
  },
  {
   "cell_type": "code",
   "execution_count": 15,
   "outputs": [
    {
     "data": {
      "text/plain": "    id                                                url  \\\n0    1  https://kun.uz/uz/news/2022/12/02/iib-va-mahal...   \n1    2  https://kun.uz/uz/news/2022/12/02/saakashvili-...   \n2    3  https://kun.uz/uz/news/2022/12/02/samarqandda-...   \n3    4  https://kun.uz/uz/news/2022/12/02/portugallar-...   \n4    5  https://kun.uz/uz/news/2022/12/02/pentagon-yan...   \n5    6  https://kun.uz/uz/news/2022/12/02/iiv-buxoroda...   \n6    7  https://kun.uz/uz/news/2022/12/02/si-jinping-b...   \n7   12  https://kun.uz/uz/news/2022/12/03/ilon-mask-te...   \n8   13  https://kun.uz/uz/news/2022/12/03/turkiyalik-s...   \n9   14  https://kun.uz/uz/news/2022/12/03/2023-yilda-s...   \n10  15  https://kun.uz/uz/news/2022/12/03/jch-2022-18-...   \n11  16  https://kun.uz/uz/news/2022/12/03/2023-yilda-s...   \n\n                   date                                              title  \\\n0   2022-12-02 18:04:09  IIB va mahalliy idoralar klasterlar xizmatida....   \n1   2022-12-02 19:02:27               Saakashvili siyosatni tark etmoqchi    \n2   2022-12-02 19:20:50  Samarqandda Rossiya-O‘zbekiston biznes-forumi ...   \n3   2022-12-02 19:30:59  Portugallar Braziliyaga tushib qolishi mumkin....   \n4   2022-12-02 19:51:19  Pentagon yangi B-21 Raider «ko‘rinmas» strateg...   \n5   2022-12-02 20:31:52  IIV Buxoroda IIB binosida fuqaro vafot etganin...   \n6   2022-12-02 23:59:01  Si Jinping birinchi marta Xitoydagi norozilikl...   \n7   2022-12-03 00:37:52  Ilon Mask Tesla Semi yuk mashinasini taqdim et...   \n8   2022-12-03 00:58:25  Turkiyalik sharhlovchi JCh-2022 o‘yini tanaffu...   \n9   2022-12-03 02:21:17  2023 yilda sayohat uchun eng xavfli mamlakatla...   \n10  2022-12-03 02:41:55  JCh-2022. 1/8 finalning barcha juftliklari va ...   \n11  2022-12-03 02:47:05  2023 yilda sayohat uchun eng xavfli mamlakatla...   \n\n                                              content  \n0   Xorazm viloyatining Xonqa tumanida “Xonqa Gold...  \n1   Gruziya sobiq prezidenti Mixail Saakashvili si...  \n2   Forum yakuniga ko‘ra, o‘zaro hamkorlikni rivoj...  \n3   Bugun mundialda nimalar hal bo‘ladi? 2 dekabr ...  \n4   Ushbu samolyot kelajakda AQSh yadroviy triadas...  \n5   Internetda tarqalgan xabarga ko‘ra, iqtisodiy ...  \n6   Xitoy rahbari noroziliklar ortida «alamzada ta...  \n7   U bir zaryadda 15 tonna yukni 800 kilometr mas...  \n8   Sharhlovchi muxolifatga aloqador bo‘lgan sobiq...  \n9   Kelasi yili Afg‘oniston, Suriya va Ukrainaga s...  \n10   Qatarda o‘tayotgan jahon chempionatida guruh ...  \n11  Kelasi yili Afg‘oniston, Suriya va Ukrainaga s...  ",
      "text/html": "<div>\n<style scoped>\n    .dataframe tbody tr th:only-of-type {\n        vertical-align: middle;\n    }\n\n    .dataframe tbody tr th {\n        vertical-align: top;\n    }\n\n    .dataframe thead th {\n        text-align: right;\n    }\n</style>\n<table border=\"1\" class=\"dataframe\">\n  <thead>\n    <tr style=\"text-align: right;\">\n      <th></th>\n      <th>id</th>\n      <th>url</th>\n      <th>date</th>\n      <th>title</th>\n      <th>content</th>\n    </tr>\n  </thead>\n  <tbody>\n    <tr>\n      <th>0</th>\n      <td>1</td>\n      <td>https://kun.uz/uz/news/2022/12/02/iib-va-mahal...</td>\n      <td>2022-12-02 18:04:09</td>\n      <td>IIB va mahalliy idoralar klasterlar xizmatida....</td>\n      <td>Xorazm viloyatining Xonqa tumanida “Xonqa Gold...</td>\n    </tr>\n    <tr>\n      <th>1</th>\n      <td>2</td>\n      <td>https://kun.uz/uz/news/2022/12/02/saakashvili-...</td>\n      <td>2022-12-02 19:02:27</td>\n      <td>Saakashvili siyosatni tark etmoqchi</td>\n      <td>Gruziya sobiq prezidenti Mixail Saakashvili si...</td>\n    </tr>\n    <tr>\n      <th>2</th>\n      <td>3</td>\n      <td>https://kun.uz/uz/news/2022/12/02/samarqandda-...</td>\n      <td>2022-12-02 19:20:50</td>\n      <td>Samarqandda Rossiya-O‘zbekiston biznes-forumi ...</td>\n      <td>Forum yakuniga ko‘ra, o‘zaro hamkorlikni rivoj...</td>\n    </tr>\n    <tr>\n      <th>3</th>\n      <td>4</td>\n      <td>https://kun.uz/uz/news/2022/12/02/portugallar-...</td>\n      <td>2022-12-02 19:30:59</td>\n      <td>Portugallar Braziliyaga tushib qolishi mumkin....</td>\n      <td>Bugun mundialda nimalar hal bo‘ladi? 2 dekabr ...</td>\n    </tr>\n    <tr>\n      <th>4</th>\n      <td>5</td>\n      <td>https://kun.uz/uz/news/2022/12/02/pentagon-yan...</td>\n      <td>2022-12-02 19:51:19</td>\n      <td>Pentagon yangi B-21 Raider «ko‘rinmas» strateg...</td>\n      <td>Ushbu samolyot kelajakda AQSh yadroviy triadas...</td>\n    </tr>\n    <tr>\n      <th>5</th>\n      <td>6</td>\n      <td>https://kun.uz/uz/news/2022/12/02/iiv-buxoroda...</td>\n      <td>2022-12-02 20:31:52</td>\n      <td>IIV Buxoroda IIB binosida fuqaro vafot etganin...</td>\n      <td>Internetda tarqalgan xabarga ko‘ra, iqtisodiy ...</td>\n    </tr>\n    <tr>\n      <th>6</th>\n      <td>7</td>\n      <td>https://kun.uz/uz/news/2022/12/02/si-jinping-b...</td>\n      <td>2022-12-02 23:59:01</td>\n      <td>Si Jinping birinchi marta Xitoydagi norozilikl...</td>\n      <td>Xitoy rahbari noroziliklar ortida «alamzada ta...</td>\n    </tr>\n    <tr>\n      <th>7</th>\n      <td>12</td>\n      <td>https://kun.uz/uz/news/2022/12/03/ilon-mask-te...</td>\n      <td>2022-12-03 00:37:52</td>\n      <td>Ilon Mask Tesla Semi yuk mashinasini taqdim et...</td>\n      <td>U bir zaryadda 15 tonna yukni 800 kilometr mas...</td>\n    </tr>\n    <tr>\n      <th>8</th>\n      <td>13</td>\n      <td>https://kun.uz/uz/news/2022/12/03/turkiyalik-s...</td>\n      <td>2022-12-03 00:58:25</td>\n      <td>Turkiyalik sharhlovchi JCh-2022 o‘yini tanaffu...</td>\n      <td>Sharhlovchi muxolifatga aloqador bo‘lgan sobiq...</td>\n    </tr>\n    <tr>\n      <th>9</th>\n      <td>14</td>\n      <td>https://kun.uz/uz/news/2022/12/03/2023-yilda-s...</td>\n      <td>2022-12-03 02:21:17</td>\n      <td>2023 yilda sayohat uchun eng xavfli mamlakatla...</td>\n      <td>Kelasi yili Afg‘oniston, Suriya va Ukrainaga s...</td>\n    </tr>\n    <tr>\n      <th>10</th>\n      <td>15</td>\n      <td>https://kun.uz/uz/news/2022/12/03/jch-2022-18-...</td>\n      <td>2022-12-03 02:41:55</td>\n      <td>JCh-2022. 1/8 finalning barcha juftliklari va ...</td>\n      <td>Qatarda o‘tayotgan jahon chempionatida guruh ...</td>\n    </tr>\n    <tr>\n      <th>11</th>\n      <td>16</td>\n      <td>https://kun.uz/uz/news/2022/12/03/2023-yilda-s...</td>\n      <td>2022-12-03 02:47:05</td>\n      <td>2023 yilda sayohat uchun eng xavfli mamlakatla...</td>\n      <td>Kelasi yili Afg‘oniston, Suriya va Ukrainaga s...</td>\n    </tr>\n  </tbody>\n</table>\n</div>"
     },
     "execution_count": 15,
     "metadata": {},
     "output_type": "execute_result"
    }
   ],
   "source": [
    "df = pd.read_csv('Data.csv')\n",
    "df"
   ],
   "metadata": {
    "collapsed": false
   }
  },
  {
   "cell_type": "code",
   "execution_count": 16,
   "outputs": [
    {
     "data": {
      "text/plain": "['Xorazm',\n 'viloyatining',\n 'Xonqa',\n 'tumanida',\n '“Xonqa',\n 'Gold',\n 'Fiber”',\n 'qishloq',\n 'xo‘jaligi',\n 'kooperativi',\n 'o‘z',\n 'mablag‘iga',\n 'yetishtirgan',\n 'paxtani',\n 'qayta',\n 'ishlovchi',\n 'korxonaga',\n 'yetkazayotganida',\n 'ichki',\n 'ishlar,',\n 'agroinspeksiya',\n 'va',\n 'yana',\n 'bir',\n 'qancha',\n 'idoralar',\n 'yo‘lto‘sarlik',\n 'qilib,',\n 'paxtani',\n 'tortib',\n 'olishgan.',\n 'Kun.uz',\n 'kooperativ',\n 'rahbaridan',\n 'nima',\n 'bo‘lgani',\n 'haqida',\n 'gapirib',\n 'berishni,',\n 'huquqshunosdan',\n 'esa',\n 'huquqiy',\n 'izoh',\n 'berishni',\n 'so‘radi.',\n '“Bir',\n 'monopolist',\n 'klasterni',\n 'deb,',\n 'bizga',\n 'yo‘l',\n 'berishmayapti”',\n 'Xo‘janiyozov',\n 'Shokir,',\n '“Xonqa',\n 'Gold',\n 'Fiber”',\n 'q/x',\n 'kooperativi',\n 'a’zosi:',\n '—',\n 'Xonqa',\n 'tumanida',\n '3',\n 'nafar',\n 'fermer',\n 'birlashib,',\n '“Fermer',\n 'xo‘jaliklari',\n 'to‘g‘risida”gi',\n 'qonun',\n 'moddalariga,',\n 'prezidentimizning',\n '2020',\n 'yil',\n '6',\n 'martdagi',\n '4633-sonli',\n 'qaroriga',\n 'asosan',\n 'ixtiyoriy',\n 'ravishda',\n 'kooperatsiya',\n 'tashkil',\n 'qildik,',\n 'paxta',\n 'yetishtirish',\n 'va',\n 'qayta',\n 'ishlash',\n 'uchun.',\n 'Paxtani',\n 'o‘z',\n 'hisobimizdan',\n 'yetishtirdik.',\n 'Tayyorlov',\n 'punkti',\n 'maskani',\n 'tashkil',\n 'qilib,',\n 'o‘sha',\n 'yerga',\n 'yig‘dik.',\n 'Qayta',\n 'ishlashni',\n 'rejalashtirib,',\n '“Agro',\n 'To‘rtko‘l',\n 'Tekstil',\n 'Cluster”',\n 'bilan',\n 'tegirmon',\n 'usulida',\n 'ishlash',\n 'uchun',\n '25',\n 'noyabrda',\n 'shartoma',\n 'qildik.',\n 'Uni',\n 'tashib',\n 'olib',\n 'borish',\n 'uchun',\n '“Xorazmpaxtatrans”',\n 'MChJ',\n 'bilan',\n 'shartnoma',\n 'qildik.',\n 'Paxtani',\n 'yuklab,',\n 'olib',\n 'borilayotganda,',\n 'yo‘l',\n 'patrul',\n 'xizmati',\n 'xodimlari',\n 'mashinani',\n 'ushlab,',\n 'hujjatlarni',\n 'tekshirdi.',\n 'Hujjatlar',\n 'hammasi',\n 'joyida',\n 'edi.',\n 'Keyin',\n 'shu',\n 'paytda',\n 'darrov',\n 'agroinspeksiya',\n 'xodimlari',\n 'yetib',\n 'keldi.',\n '“Mahsulotning',\n 'qonuniyligini',\n 'tekshiramiz”,',\n 'deyishdi.',\n 'Tekshirish',\n 'uchun',\n '“Xorazm',\n 'Tex”',\n 'MChJ',\n 'klasteriga',\n 'o‘sha',\n 'yukni',\n 'olib',\n 'borib',\n 'qo‘yishni',\n 'taklif',\n 'qilishdi.',\n 'Biz:',\n '“Yo‘q,',\n 'bu',\n 'o‘zimizning',\n 'xususiy',\n 'mulkimiz,',\n 'o‘zimiz',\n 'yetishtirdik,',\n 'u',\n 'yerga',\n 'olib',\n 'bormaymiz,',\n 'qayta',\n 'ishlash',\n 'uchun',\n 'olib',\n 'boryapmiz”,',\n 'desak,',\n 'shu',\n 'paytda',\n 'ichki',\n 'ishlar',\n 'xodimlari,',\n 'boshlig‘i,',\n 'qishloq',\n 'xo‘jaligi',\n 'bo‘limi',\n 'boshlig‘i,',\n 'muovini,',\n 'fermerlar',\n 'kengashi',\n 'xodimi',\n 'kelib:',\n '“Bir',\n 'kunga',\n 'qo‘yib',\n 'turasizlar,',\n 'ertaga',\n 'chiqarib',\n 'yuboramiz”,',\n 'deb,',\n 'mashinani',\n '“Xorazm',\n 'Tex”',\n 'klasteriga',\n 'olib',\n 'borib',\n 'qo‘yishdi.',\n 'Mana',\n 'bugun',\n '30',\n 'noyabr',\n '(intervyu',\n 'shu',\n 'kuni',\n 'olingan',\n '–',\n 'tahr.),',\n 'hali',\n 'paxtani',\n '–',\n 'o‘zimizning',\n 'mahsulotimizni',\n 'u',\n 'yerdan',\n 'chiqara',\n 'olmay',\n 'yuribmiz.',\n 'O‘sha',\n 'yerda',\n 'ma’lumotnoma',\n 'tuzib,',\n 'Xonqa',\n 'tuman',\n 'departamentiga',\n 'taqdim',\n 'qilishgan.',\n 'Departament',\n 'o‘rganish',\n 'ishlari',\n 'olib',\n 'bormoqda,',\n 'xuddi',\n 'katta',\n 'jinoyatchini',\n 'qo‘lga',\n 'tushirgandek...',\n '“Fermer',\n 'xo‘jaliklari',\n 'to‘g‘risida”gi',\n 'qonunda',\n 'ko‘rsatilgan:',\n 'Mansabdor',\n 'shaxslarning',\n 'aralashuvi',\n 'qonun',\n 'bilan',\n 'taqiqlangan,',\n 'javobgarligi',\n 'bor.',\n 'Bunga',\n 'qaramasdan,',\n 'bizning',\n 'mahsulotimizni',\n 'bosqinchilik',\n 'bilan',\n 'olib',\n 'qo‘yishyapti.',\n 'O‘zbekiston',\n 'Respublikasi',\n 'qonun',\n 'hujjatlarida',\n 'kooperativ',\n 'taqiqlanganlardan',\n 'tashqari',\n 'faoliyatning',\n 'har',\n 'qanday',\n 'turi',\n 'bilan',\n 'shug‘ullanishga',\n 'haqlidir',\n 'deyilgan.',\n 'Hech',\n 'qaysi',\n 'qonunda',\n 'kooperativ',\n 'paxta',\n 'bilan',\n 'shug‘ullanmasin,',\n 'kartoshka,',\n 'sabzi',\n 'eksin,',\n 'degan',\n 'joyi',\n 'yo‘q.',\n 'Shu',\n 'bilan',\n 'birga,',\n 'klasterlar',\n 'tashkil',\n 'qilingan',\n 'hududlarda',\n 'fermerlar',\n 'o‘zaro',\n 'ixtiyoriy',\n 'ravishda',\n 'birlashib,',\n 'kooperativlar',\n 'tashkil',\n 'qilmasin',\n 'deb',\n 'aytilgani',\n 'ham',\n 'yo‘q.',\n 'Adliya',\n 'boshqarmasi',\n 'va',\n 'agroinspeksiyaning:',\n '“Bitta',\n 'klaster',\n 'bor',\n 'tumanda',\n 'boshqasi',\n 'paxta',\n 'bilan',\n 'shug‘ullanmasin”',\n 'degan',\n 'gapi',\n 'bu',\n '–',\n 'monopoliya.',\n 'Nima',\n 'uchun',\n 'raqobat',\n 'bo‘lmasligi',\n 'kerak?',\n '“Nima',\n 'uchun',\n 'to‘xtatding,',\n 'nima',\n 'uchun',\n 'aralashding?”',\n 'deb',\n 'so‘rasangiz,',\n '“tuman',\n 'hokimining',\n 'topshirig‘i',\n 'bilan”',\n 'deyilmoqda.',\n 'Demak,',\n 'tuman',\n 'hokimi',\n 'ham',\n 'tadbirkorlikka',\n 'qarshi.',\n 'Bir',\n 'monopolist',\n 'klasterni',\n 'deb,',\n 'bizlarga',\n 'yo‘l',\n 'berishmayapti.',\n 'Alisher',\n 'Ahmedov,',\n 'huquqshunos:',\n '—',\n 'Avval',\n 'prokuratura',\n 'tizimida',\n 'faoliyat',\n 'yuritganman.',\n 'Bosh',\n 'prokurorning',\n 'sohaviy',\n 'buyruqlari',\n 'bor.',\n 'O‘sha',\n 'buyruqlarda',\n 'ham,',\n 'prezidentimiz',\n 'talablarida',\n 'ham',\n 'tadbirkorlik',\n 'faoliyatiga',\n 'prokuratura',\n 'organlarining',\n 'aralashuvi',\n 'qat’iyan',\n 'taqiqlanadi.',\n 'Bu',\n 'to‘g‘rida',\n 'har',\n 'bir',\n 'yig‘ilish',\n 'va',\n 'selektorlarda',\n 'alohida',\n 'ta’kidlab',\n 'o‘tiladi.',\n 'Hatto',\n 'biror',\n 'masalada',\n 'uchrashish',\n 'kerak',\n 'bo‘lsa',\n 'ham,',\n 'tadbirkorning',\n 'vaqtiga',\n 'qarab',\n 'uchrashuv',\n 'belgilanar',\n 'edi.',\n 'Yuqoridagi',\n 'prokuratura',\n 'tomonidan',\n 'chiqarilgan',\n 'xatni',\n 'ko‘rib,',\n 'huquqiy',\n 'savodxonlik',\n 'naqadar',\n 'past',\n 'ekaniga',\n 'amin',\n 'bo‘ldim.',\n 'U',\n 'yerda',\n 'ko‘rsatilgan',\n 'sabablarni',\n 'ko‘rib,',\n 'uni',\n 'qanday',\n 'talqin',\n 'qilishganini',\n 'tushunish',\n 'qiyin.',\n '“Fermer',\n 'xo‘jaliklari',\n 'to‘g‘risida”gi',\n 'qonunning',\n '3-moddasida',\n 'fermerlarga',\n 'o‘z',\n 'mahsulotini',\n 'qayta',\n 'ishlash',\n 'huquqi',\n 'berilgan.',\n 'Bu',\n 'yerda',\n 'qishloq',\n 'xo‘jaligiga',\n 'doir',\n 'huquqiy',\n 'bilimning',\n 'yetishmasligi',\n 'natijasida',\n 'bir',\n 'masalaga',\n 'tor',\n 'doirada',\n 'qarab',\n 'olishgan.',\n 'Prezidentimizning',\n '2022',\n 'yil',\n '6',\n 'martdagi',\n '46-sonli',\n 'qarori',\n 'o‘qib',\n 'chiqilsa,',\n '2-bandida',\n 'paxta',\n 'to‘qimachilik',\n 'klasterlari',\n 'tashkil',\n 'qilinmagan',\n 'yerlarda',\n 'kooperativlar',\n 'tashkil',\n 'qilinadi',\n 'degan',\n 'jumlani',\n 'noto‘g‘ri',\n 'va',\n 'o‘zlariga',\n 'kerakli',\n 'tarzda',\n 'talqin',\n 'qilishmoqda.',\n 'Deylik,',\n 'chekka',\n 'hududlardan',\n 'birida',\n 'klaster',\n 'tuzish',\n 'uchun',\n 'mablag‘',\n 'sarflaydigan',\n 'talabgor',\n 'topilmadi.',\n 'Ammo',\n 'o‘sha',\n 'yerdagi',\n 'paxta',\n 'ishlab',\n 'chiqarish',\n 'punktlari',\n 'va',\n 'paxtachilik',\n 'sanoatining',\n 'taqdiri',\n 'nima',\n 'bo‘lishini',\n 'o‘ylab,',\n 'fermerlarning',\n 'birlashuvi',\n 'asosida',\n 'ixtiyoriy',\n 'kooperativlar',\n 'qabul',\n 'qilinadi,',\n 'deyilgan.',\n 'Taqiqlanmagan',\n 'faoliyat',\n 'yuritish',\n 'qonun',\n 'hujjatlari',\n 'orqali',\n 'ham',\n 'mustahkamlab',\n 'qo‘yilgan.',\n 'Bu',\n 'shuni',\n 'anglatadiki,',\n 'qonun',\n 'hujjatlari',\n 'bilan',\n 'taqiqlanmagan',\n 'har',\n 'qanday',\n 'faoliyat',\n 'bilan',\n 'tadbirkorning',\n 'shug‘ullanishini',\n 'davlat',\n 'kafolatlab',\n 'qo‘ygan.',\n 'Xonqa',\n 'tumani',\n 'departamenti',\n 'tomonidan',\n 'yuborilgan',\n 'bu',\n 'xat',\n '–',\n 'huquqiy',\n 'savodsizlik',\n 'namunasi.',\n 'Agar',\n 'ular',\n 'qonunni',\n 'o‘ziga',\n 'og‘dirib,',\n 'shu',\n 'tarzda',\n 'talqin',\n 'qilgan',\n 'ekan,',\n 'prokuratura',\n 'xodimi',\n 'boshqa',\n 'qonun',\n 'hujjatlarida',\n 'nimalar',\n 'aks',\n 'etganini',\n 'ham',\n 'yaxshi',\n 'bilishi',\n 'kerak-ku.',\n 'Qolaversa,',\n 'Konstitutsiyamizning',\n '36-moddasida',\n 'mulk',\n 'huquqi',\n 'mustahkamlab',\n 'qo‘yilgan.',\n 'Qanday',\n 'qilib',\n 'qonunosti',\n 'hujjati',\n 'qonundan',\n 'yuqori',\n 'bo‘lib',\n 'ketishi',\n 'mumkin?',\n 'Aslida',\n 'fermerlarga',\n 'rahmat',\n 'aytishlari',\n 'kerak',\n '–',\n 'davlatning',\n 'imtiyozli',\n 'kreditlarisiz,',\n 'boqimandalik',\n 'qilmasdan,',\n 'davlatdan',\n 'yordam',\n 'olmasdan',\n 'shu',\n 'darajaga',\n 'yetib',\n 'kelishning',\n 'o‘zi',\n 'jasorat.',\n 'Bu',\n 'kabi',\n 'hodisalar',\n 'erkin',\n 'faoliyat',\n 'yuritayotgan',\n 'tadbirkorlar',\n 'uchun',\n 'to‘siq.',\n 'Negadir',\n 'mahalliy',\n 'hokimiyat',\n 'organlari',\n 'fermerlarga',\n 'tadbirkorlik',\n 'sub’yekti',\n 'sifatida',\n 'qarashni',\n 'xohlamaydi.',\n 'Tegishli',\n 'qonunlarda',\n 'fermerlarning',\n 'huquqlari',\n 'mustahkamlab',\n 'qo‘yilgan.',\n 'Klasterlarga',\n 'nisbatan',\n 'yo‘lni',\n 'to‘sib',\n 'qo‘yib,',\n 'paxtasini',\n 'olib',\n 'qo‘yish',\n 'holatlarini',\n 'ko‘rganimiz',\n 'yo‘q.',\n 'Kooperativlar',\n 'faoliyatiga',\n 'nega',\n 'to‘siq',\n 'qo‘yishadi?',\n 'Fermer',\n 'hosilini',\n 'klasterga',\n 'topshirishi',\n 'kerak',\n 'deb,',\n 'paxtasini',\n 'olib',\n 'qo‘yishyapti.',\n 'Yo‘l',\n 'harakati',\n 'xavfsizligi',\n 'guruh',\n 'katta',\n 'inspektorining',\n 'telefon',\n 'orqali',\n 'murojaati',\n 'asos',\n 'qilinibdi.',\n 'Aslida',\n 'aynan',\n 'shu',\n 'xodimga',\n 'nisbatan',\n 'xizmat',\n 'tekshiruvi',\n 'tayinlanishi',\n 'kerak.',\n 'Nega',\n 'bu',\n 'xodim',\n 'qoidalarga',\n 'rioya',\n 'qilgan,',\n 'barcha',\n 'tashuv',\n 'hujjatlariga',\n 'ega',\n 'bo‘lgan',\n 'yukni',\n 'sababsiz',\n 'to‘xtatib',\n 'turib,',\n 'agroinspeksiyaga',\n 'xabar',\n 'beradi?',\n 'Bu',\n '–',\n 'bevosita',\n 'tadbirkorlik',\n 'faoliyatiga',\n 'to‘sqinlik',\n 'hisoblanadi.',\n 'Axir',\n 'bu',\n 'O‘zbekiston',\n 'iqtisodiyoti',\n 'to‘g‘risidagi',\n 'qarashlarga',\n 'putur',\n 'yetkazadi.',\n 'Shokir',\n 'Sharipov',\n 'suhbatlashdi.',\n 'Tahririyatdan:',\n 'Kun.uz',\n 'respublika',\n 'bo‘ylab',\n 'erkin',\n 'fermerlarning',\n 'kooperativlarga',\n 'uyushish',\n 'huquqi',\n 'toptalayotgani,',\n 'bu',\n 'jarayonda',\n 'qonunlar',\n 'buzilayotganini',\n 'yoritib',\n 'kelmoqda.',\n 'Lekin',\n 'bu',\n 'borada',\n 'yuqoridan',\n 'hech',\n 'bir',\n 'munosabat',\n 'bo‘layotgani',\n 'yo‘q.']"
     },
     "execution_count": 16,
     "metadata": {},
     "output_type": "execute_result"
    }
   ],
   "source": [
    "word = df.content[0].split()\n",
    "word"
   ],
   "metadata": {
    "collapsed": false
   }
  },
  {
   "cell_type": "code",
   "execution_count": 17,
   "outputs": [],
   "source": [
    "error = 0\n",
    "for x in set(word):\n",
    "    if len(x) > 2:  # here we remove the words \"va\", \"bu\" and various symbols\n",
    "        if x.isalpha: # only receive letters\n",
    "            pass\n",
    "        else:\n",
    "            error += 1\n",
    "    else:\n",
    "        error += 1"
   ],
   "metadata": {
    "collapsed": false
   }
  },
  {
   "cell_type": "code",
   "execution_count": 18,
   "outputs": [
    {
     "data": {
      "text/plain": "(760, 550, 11, 'real=>539')"
     },
     "execution_count": 18,
     "metadata": {},
     "output_type": "execute_result"
    }
   ],
   "source": [
    "len(word), len(set(word)), error, f\"real=>{len(set(word)) - error}\""
   ],
   "metadata": {
    "collapsed": false
   }
  },
  {
   "cell_type": "code",
   "execution_count": 19,
   "outputs": [
    {
     "data": {
      "text/plain": "<Figure size 640x480 with 1 Axes>",
      "image/png": "[encoded data removed]"
     },
     "metadata": {},
     "output_type": "display_data"
    }
   ],
   "source": [
    "import matplotlib.pyplot as plt\n",
    "import seaborn as sns\n",
    "\n",
    "len_word = len(word)\n",
    "dublicate = len_word - len(set(word))\n",
    "\n",
    "data = [len_word, dublicate, error ]\n",
    "labels = ['words', 'dublicat words', 'different characters']\n",
    "\n",
    "colors = sns.color_palette('bright')[0:3]\n",
    "sns.set_theme(style=\"ticks\")\n",
    "\n",
    "plt.title(\"All the words in the article\")\n",
    "plt.pie(data, labels = labels, colors = colors, autopct='%.0f%%')\n",
    "plt.show()"
   ],
   "metadata": {
    "collapsed": false
   }
  },
  {
   "cell_type": "code",
   "execution_count": null,
   "outputs": [],
   "source": [],
   "metadata": {
    "collapsed": false
   }
  }
 ],
 "metadata": {
  "kernelspec": {
   "display_name": "Python 3",
   "language": "python",
   "name": "python3"
  },
  "language_info": {
   "codemirror_mode": {
    "name": "ipython",
    "version": 2
   },
   "file_extension": ".py",
   "mimetype": "text/x-python",
   "name": "python",
   "nbconvert_exporter": "python",
   "pygments_lexer": "ipython2",
   "version": "2.7.6"
  }
 },
 "nbformat": 4,
 "nbformat_minor": 0
}
